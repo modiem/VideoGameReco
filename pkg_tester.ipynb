{
 "cells": [
  {
   "cell_type": "markdown",
   "metadata": {},
   "source": [
    "### Test Preprocessing"
   ]
  },
  {
   "cell_type": "code",
   "execution_count": 20,
   "metadata": {
    "scrolled": true
   },
   "outputs": [],
   "source": [
    "from VideoGame import utils"
   ]
  },
  {
   "cell_type": "code",
   "execution_count": 10,
   "metadata": {},
   "outputs": [],
   "source": [
    "text = '''Well organized and easy to understand Web building..& @\n",
    "tutorials with 898 lots of examples of how to use HTML, CSS, JavaScript, SQL, \n",
    "PHP, Python, Bootstrap, Java and XML.'''"
   ]
  },
  {
   "cell_type": "code",
   "execution_count": 11,
   "metadata": {},
   "outputs": [
    {
     "data": {
      "text/plain": [
       "'well organized easy understand web building tutorial lot example use html cs javascript sql php python bootstrap java xml'"
      ]
     },
     "execution_count": 11,
     "metadata": {},
     "output_type": "execute_result"
    }
   ],
   "source": [
    "utils.preprocess(text)"
   ]
  },
  {
   "cell_type": "code",
   "execution_count": 4,
   "metadata": {},
   "outputs": [],
   "source": [
    "from packages.preprocess import *"
   ]
  },
  {
   "cell_type": "code",
   "execution_count": 5,
   "metadata": {},
   "outputs": [
    {
     "data": {
      "text/plain": [
       "'Well organized and easy to understand Web building .. & @ tutorial with 898 lot of example of how to use HTML , CSS , JavaScript , SQL , PHP , Python , Bootstrap , Java and XML .'"
      ]
     },
     "execution_count": 5,
     "metadata": {},
     "output_type": "execute_result"
    }
   ],
   "source": [
    "lemmatizer(text)"
   ]
  },
  {
   "cell_type": "code",
   "execution_count": 7,
   "metadata": {
    "collapsed": true
   },
   "outputs": [
    {
     "name": "stdout",
     "output_type": "stream",
     "text": [
      "\u001b[01;34m.\u001b[00m\r\n",
      "├── \u001b[01;34mCapstone_project_2\u001b[00m\r\n",
      "│   ├── \u001b[01;34mReport\u001b[00m\r\n",
      "│   │   ├── Amazon_sentiment_analysis_presentation.pdf\r\n",
      "│   │   ├── Capstone\\ project\\ 2\\ ideas.pdf\r\n",
      "│   │   ├── Final_report_capstone2.pdf\r\n",
      "│   │   ├── Milestone_report1_capstone2.pdf\r\n",
      "│   │   ├── Milestone_report2_capstone2.pdf\r\n",
      "│   │   ├── Project_proposal_capstone_2.pdf\r\n",
      "│   │   └── readme.md\r\n",
      "│   ├── \u001b[01;34mcode\u001b[00m\r\n",
      "│   │   ├── Amazon-Headphones_data_wrangling.ipynb\r\n",
      "│   │   ├── Amazon-headphones_EDA.ipynb\r\n",
      "│   │   ├── Amazon_headphones_Sentiment_Analysis_CV_IF_IDF_HASH.ipynb\r\n",
      "│   │   ├── Amazon_headphones_wordvec.ipynb\r\n",
      "│   │   ├── amazon_electronics_recommendation.ipynb\r\n",
      "│   │   ├── big.txt\r\n",
      "│   │   ├── contractions.py\r\n",
      "│   │   └── readme.md\r\n",
      "│   └── readme.md\r\n",
      "├── \u001b[01;34mNotebooks\u001b[00m\r\n",
      "│   ├── DataPreproc.ipynb\r\n",
      "│   ├── Recommendation.ipynb\r\n",
      "│   ├── binary.pkl\r\n",
      "│   ├── content\\ based\\ recommendation.ipynb\r\n",
      "│   ├── data_user_prod.pickle\r\n",
      "│   ├── df_user_prod.pickle\r\n",
      "│   ├── preprocessed.pkl\r\n",
      "│   ├── product_review_df.pickle\r\n",
      "│   ├── \u001b[01;31mproduct_review_df.pickle.zip\u001b[00m\r\n",
      "│   ├── requirements.\r\n",
      "│   ├── requirements.txt\r\n",
      "│   ├── simpleSentimentAnalysis\\ (code_by_Mo).ipynb\r\n",
      "│   └── top_brand.pickle\r\n",
      "├── \u001b[01;34mNotebooks_recovered\u001b[00m\r\n",
      "├── \u001b[01;34mdata\u001b[00m\r\n",
      "│   ├── Video_Games_Sales.csv\r\n",
      "│   ├── cleaned_df\r\n",
      "│   ├── \u001b[01;31mcleaned_df.zip\u001b[00m\r\n",
      "│   ├── meta_withPrice\r\n",
      "│   ├── preprocessed\r\n",
      "│   ├── preprocessed_data\r\n",
      "│   └── \u001b[01;34mprocessed_acl\u001b[00m\r\n",
      "│       ├── \u001b[01;34mbooks\u001b[00m\r\n",
      "│       │   ├── negative.review\r\n",
      "│       │   ├── positive.review\r\n",
      "│       │   └── unlabeled.review\r\n",
      "│       ├── \u001b[01;34mdvd\u001b[00m\r\n",
      "│       │   ├── negative.review\r\n",
      "│       │   ├── positive.review\r\n",
      "│       │   └── unlabeled.review\r\n",
      "│       ├── \u001b[01;34melectronics\u001b[00m\r\n",
      "│       │   ├── negative.review\r\n",
      "│       │   ├── positive.review\r\n",
      "│       │   └── unlabeled.review\r\n",
      "│       └── \u001b[01;34mkitchen\u001b[00m\r\n",
      "│           ├── negative.review\r\n",
      "│           ├── positive.review\r\n",
      "│           └── unlabeled.review\r\n",
      "├── \u001b[01;35mone-direction.jpg\u001b[00m\r\n",
      "├── \u001b[01;34mpackages\u001b[00m\r\n",
      "│   ├── \u001b[01;34mVideoGameModel\u001b[00m\r\n",
      "│   │   └── preprocess.py\r\n",
      "│   ├── \u001b[01;34m__pycache__\u001b[00m\r\n",
      "│   │   └── preprocess.cpython-37.pyc\r\n",
      "│   └── requirements.text\r\n",
      "├── pkg_tester.ipynb\r\n",
      "├── \u001b[01;34mreference\u001b[00m\r\n",
      "│   └── Justifying\\ Recommendations.pdf\r\n",
      "└── streamlitTutorial.py\r\n",
      "\r\n",
      "15 directories, 54 files\r\n"
     ]
    }
   ],
   "source": [
    "!tree"
   ]
  },
  {
   "cell_type": "markdown",
   "metadata": {},
   "source": [
    "### Test Load Latent df"
   ]
  },
  {
   "cell_type": "code",
   "execution_count": 1,
   "metadata": {
    "scrolled": true
   },
   "outputs": [],
   "source": [
    "from VideoGame.contentBasedRec import ContentRecommender"
   ]
  },
  {
   "cell_type": "code",
   "execution_count": 2,
   "metadata": {
    "scrolled": true
   },
   "outputs": [],
   "source": [
    "rec = ContentRecommender()\n"
   ]
  },
  {
   "cell_type": "code",
   "execution_count": 3,
   "metadata": {
    "scrolled": false
   },
   "outputs": [
    {
     "data": {
      "text/plain": [
       "['The Legend of Legacy',\n",
       " 'Girls RPG: Cinderellife',\n",
       " 'Inazuma Eleven Go 2: Chrono Stone',\n",
       " 'Yokai Watch 2 Shinuchi',\n",
       " 'Medabots Girls Mission: Metabee Ver. / Rokusho Ver.']"
      ]
     },
     "execution_count": 3,
     "metadata": {},
     "output_type": "execute_result"
    }
   ],
   "source": [
    "rec.get_recommendation()"
   ]
  },
  {
   "cell_type": "markdown",
   "metadata": {},
   "source": [
    "## Try get game list"
   ]
  },
  {
   "cell_type": "code",
   "execution_count": 1,
   "metadata": {
    "scrolled": false
   },
   "outputs": [],
   "source": [
    "from VideoGame import utils"
   ]
  },
  {
   "cell_type": "code",
   "execution_count": 2,
   "metadata": {},
   "outputs": [
    {
     "data": {
      "text/plain": [
       "Pipeline(memory=None,\n",
       "     steps=[('vectorizer', CountVectorizer(analyzer='word', binary=False, decode_error='strict',\n",
       "        dtype=<class 'numpy.int64'>, encoding='utf-8', input='content',\n",
       "        lowercase=True, max_df=1.0, max_features=None, min_df=1,\n",
       "        ngram_range=(1, 2), preprocessor=None, stop_words=None,\n",
       "        strip_accents=None, token_pattern='(?u)\\\\b\\\\w\\\\w+\\\\b',\n",
       "        tokenizer=None, vocabulary=None)), ('nb', MultinomialNB(alpha=1, class_prior=None, fit_prior=True))])"
      ]
     },
     "execution_count": 2,
     "metadata": {},
     "output_type": "execute_result"
    }
   ],
   "source": [
    "utils.get_model()"
   ]
  },
  {
   "cell_type": "code",
   "execution_count": null,
   "metadata": {},
   "outputs": [],
   "source": []
  }
 ],
 "metadata": {
  "kernelspec": {
   "display_name": "Python 3",
   "language": "python",
   "name": "python3"
  },
  "language_info": {
   "codemirror_mode": {
    "name": "ipython",
    "version": 3
   },
   "file_extension": ".py",
   "mimetype": "text/x-python",
   "name": "python",
   "nbconvert_exporter": "python",
   "pygments_lexer": "ipython3",
   "version": "3.7.1"
  }
 },
 "nbformat": 4,
 "nbformat_minor": 4
}
